{
  "cells": [
    {
      "cell_type": "markdown",
      "metadata": {},
      "source": [
        "Realizado por: _Muriel González Diego_ - **``UXP``** \n",
        "\n",
        "\n",
        "Oficial superior> \"¿Cadete?\"\n",
        "\n",
        "Usted > \"¿Sí, señora?\"\n",
        "\n",
        "Oficial superior> \"¿Puedes construir un programa que me muestre la fecha? La computadora del barco no venía con mucho en términos de programas de utilidad, por lo que necesitamos crear los que necesitamos. ¿Puedo confiar en ti con esto?\"\n",
        "\n",
        "Usted > \"Considéralo hecho\".\n",
        "\n",
        "Oficial superior> \"Excelente\".\n",
        "\n",
        "## Tu primer programa\n",
        "\n",
        "Para crear este programa, deberás utilizar los conceptos que aprendiste en el último módulo. Usarás Jupyter Notebook en este ejercicio, que es una combinación de texto y código con la que puede interactuar. Finaliza el código siguiente para que el resultado muestre la fecha de hoy."
      ]
    },
    {
      "cell_type": "code",
      "execution_count": 3,
      "metadata": {},
      "outputs": [
        {
          "name": "stdout",
          "output_type": "stream",
          "text": [
            "Today's date is: 2022-02-12\n"
          ]
        }
      ],
      "source": [
        "from datetime import date\n",
        "\n",
        "print(\"Today's date is: \" + str(date.today()))"
      ]
    },
    {
      "cell_type": "markdown",
      "metadata": {},
      "source": [
        "> **TIP**\n",
        "> Dedique unos minutos a tratar de encontrar una solución. Luego desplácese hacia abajo hasta la parte inferior para ver si ha logrado compilar el programa de acuerdo con las especificaciones.\n",
        "\n",
        "## Construir un convertidor de unidades\n",
        "\n",
        "El oficial superior> \"Necesito una cosa más: un programa de conversión entre parsecs y años luz. Tener un programa de este tipo podría ser realmente útil en el puente para trazar nuestro curso\".\n",
        "\n",
        "Tú> \"¡Lo haré!\"\n"
      ]
    },
    {
      "cell_type": "code",
      "execution_count": 4,
      "metadata": {},
      "outputs": [
        {
          "name": "stdout",
          "output_type": "stream",
          "text": [
            "1.0 parsec, is 3.26156 lightyears\n",
            "Your Parcecs to Lightyears are: 1630.78\n",
            "\n",
            "\tThe input value is not accepted, select an option beetwin 1 or 2\n",
            "\n",
            "\tThe input value is not accepted, select an option beetwin 1 or 2\n",
            "Your Lightyears to Parcecs are: 172.31018285728302\n"
          ]
        }
      ],
      "source": [
        "parsec = float(1)\n",
        "\n",
        "lightyears = float(3.26156)\n",
        "\n",
        "decition = 1\n",
        "\n",
        "print(str(parsec) + \" parsec, is \" + str(lightyears) + \" lightyears\")\n",
        "\n",
        "selection=input('\\t1) Parsec to Lightyears\\n\\t2)Lightyears to Parsec\\n\\tSelection: ')\n",
        "while int(selection)<1 or int(selection)>2:\n",
        "    print(\"\\n\\tThe input value is not accepted, select an option beetwin 1 or 2\")\n",
        "    selection=input('\\t1) Parsec to Lightyears\\n\\t2)Lightyears to Parsec\\n\\tSelection: ')\n",
        "flag=1\n",
        "while int(decition) == 1:\n",
        "    if flag==0:\n",
        "        selection=input('\\t1) Parsec to Lightyears\\n\\t2)Lightyears to Parsec\\n\\tSelection: ')\n",
        "        while int(selection)<1 or int(selection)>2:\n",
        "            print(\"\\n\\tThe input value is not accepted, select an option beetwin 1 or 2\")\n",
        "            selection=input('\\t1) Parsec to Lightyears\\n\\t2)Lightyears to Parsec\\n\\tSelection: ')\n",
        "    if int(selection)==1:\n",
        "        amount=input(\"\\n\\n\\tInsert the amount of Parsec to convert: \")\n",
        "        print(\"Your Parcecs to Lightyears are: \"+ str(float(amount) * lightyears))\n",
        "    else:\n",
        "        amount=input(\"\\n\\n\\tInsert the amount of Lightyears to convert: \")\n",
        "        print(\"Your Lightyears to Parcecs are: \"+ str((float(amount) * parsec)/lightyears))\n",
        "    decition=input(\"\\n\\n\\tDo you want to convert another cuantity?\\n\\t1) Yes\\n\\t2) No\\n\\tSelection: \")\n",
        "    while int(decition)<1 or int(decition)>2:\n",
        "        print(\"\\n\\tThe input value is not accepted, select an option beetwin 1 or 2\")\n",
        "        decition=input(\"\\n\\n\\tDo you want to convert another cuantity?\\n\\t1) Yes\\n\\t2) No\\n\\tSelection: \")\n",
        "    flag=0\n",
        "\n"
      ]
    },
    {
      "cell_type": "markdown",
      "metadata": {},
      "source": [
        "> [!TIP]\n",
        "> 1 parsec es 3.26156 años luz. Utiliza el operador de multiplicación."
      ]
    },
    {
      "cell_type": "markdown",
      "metadata": {},
      "source": [
        "## Soluciones\n",
        "\n",
        "Aquí está la solución para el primer programa:"
      ]
    },
    {
      "cell_type": "code",
      "execution_count": null,
      "metadata": {},
      "outputs": [],
      "source": [
        "from datetime import date\n",
        "\n",
        "print(\"Today's date is: \" + str(date.today()))"
      ]
    },
    {
      "cell_type": "code",
      "execution_count": null,
      "metadata": {},
      "outputs": [],
      "source": [
        "parsec = 11\n",
        "lightyears = 3.26156 * parsec\n",
        "\n",
        "print(str(parsec) + \" parsec, is \" + str(lightyears) + \" lightyears\")"
      ]
    },
    {
      "cell_type": "markdown",
      "metadata": {},
      "source": [
        "Curso Propedútico de Python para Launch X - Innovacción Virtual.\n",
        "\n",
        "Material desarrollado con base en los contenidos de MSLearn y la metáfora de LaunchX, traducción e implementación por: Fernanda Ochoa - Learning Producer de LaunchX.\n",
        "\n",
        "Redes:\n",
        "* GitHub: [FernandaOchoa](https://github.com/FernandaOchoa)\n",
        "* Twitter: [@imonsh](https://twitter.com/imonsh)\n",
        "* Instagram: [fherz8a](https://www.instagram.com/fherz8a/)"
      ]
    }
  ],
  "metadata": {
    "interpreter": {
      "hash": "13dc31ac6ca6f2b9a4cea5e1e920f8e8da55d76d6619a5a9d51aef231b003d26"
    },
    "kernel_info": {
      "name": "conda-env-py37_default-py"
    },
    "kernelspec": {
      "display_name": "py37_default",
      "language": "python",
      "name": "python3"
    },
    "language_info": {
      "codemirror_mode": {
        "name": "ipython",
        "version": 3
      },
      "file_extension": ".py",
      "mimetype": "text/x-python",
      "name": "python",
      "nbconvert_exporter": "python",
      "pygments_lexer": "ipython3",
      "version": "3.10.2"
    },
    "nteract": {
      "version": "nteract-front-end@1.0.0"
    },
    "orig_nbformat": 4
  },
  "nbformat": 4,
  "nbformat_minor": 2
}
